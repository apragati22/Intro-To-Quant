{
  "nbformat": 4,
  "nbformat_minor": 0,
  "metadata": {
    "colab": {
      "provenance": []
    },
    "kernelspec": {
      "name": "python3",
      "display_name": "Python 3"
    },
    "language_info": {
      "name": "python"
    }
  },
  "cells": [
    {
      "cell_type": "markdown",
      "source": [
        "# Long v/s short Trading"
      ],
      "metadata": {
        "id": "u1xAdDEWJ_AI"
      }
    },
    {
      "cell_type": "code",
      "execution_count": null,
      "metadata": {
        "id": "8kLn1-uDjPsK"
      },
      "outputs": [],
      "source": [
        "from statsmodels.tsa.stattools import adfuller\n",
        "import pandas as pd\n",
        "import numpy as np\n",
        "import yfinance as yf\n",
        "import datetime as dt"
      ]
    },
    {
      "cell_type": "code",
      "source": [
        "import matplotlib.pyplot as plt\n",
        "%matplotlib inline"
      ],
      "metadata": {
        "id": "AYmlHJtSjZEz"
      },
      "execution_count": null,
      "outputs": []
    },
    {
      "cell_type": "code",
      "source": [
        "strtDate=dt.datetime(2022,6,1)\n",
        "endDate=dt.datetime(2023,5,31)"
      ],
      "metadata": {
        "id": "8Zq3V6CbjcaB"
      },
      "execution_count": null,
      "outputs": []
    },
    {
      "cell_type": "markdown",
      "source": [
        "Pair of stationary stocks between 1 Jun 2022 and 31 May 2023:"
      ],
      "metadata": {
        "id": "aVQ8lzs4KIzY"
      }
    },
    {
      "cell_type": "code",
      "source": [
        "tickers=yf.Ticker('AXISBANK.NS IDBI.NS')"
      ],
      "metadata": {
        "id": "VctQjOoNjpUo"
      },
      "execution_count": null,
      "outputs": []
    },
    {
      "cell_type": "code",
      "source": [
        "data=yf.download(\"AXISBANK.NS IDBI.NS\", start=\"2022-06-01\", end=\"2023-05-31\")"
      ],
      "metadata": {
        "colab": {
          "base_uri": "https://localhost:8080/"
        },
        "id": "TgTb1D6zjt6Z",
        "outputId": "ab2fffbf-2140-4ecc-8d61-ff1dd9fb60c3"
      },
      "execution_count": null,
      "outputs": [
        {
          "output_type": "stream",
          "name": "stdout",
          "text": [
            "[*********************100%***********************]  2 of 2 completed\n"
          ]
        }
      ]
    },
    {
      "cell_type": "code",
      "source": [
        "axisb=yf.Ticker(\"AXISBANK.NS\")\n",
        "axisb_data=axisb.history(start=strtDate,end=endDate)"
      ],
      "metadata": {
        "id": "ZknHTwqujznN"
      },
      "execution_count": null,
      "outputs": []
    },
    {
      "cell_type": "code",
      "source": [
        "idbi=yf.Ticker(\"IDBI.NS\")\n",
        "idbi_data=idbi.history(start=strtDate,end=endDate)"
      ],
      "metadata": {
        "id": "iwEuVwnWj3ht"
      },
      "execution_count": null,
      "outputs": []
    },
    {
      "cell_type": "markdown",
      "source": [
        "Removing time parameter from Date indices of stocks dataframes"
      ],
      "metadata": {
        "id": "_0dct8hPRxKZ"
      }
    },
    {
      "cell_type": "code",
      "source": [
        "axisb_data['Date'] = pd.to_datetime(axisb_data.index)\n",
        "axisb_data.index= axisb_data['Date'].dt.date"
      ],
      "metadata": {
        "id": "IoODpiU0EcqP"
      },
      "execution_count": null,
      "outputs": []
    },
    {
      "cell_type": "code",
      "source": [
        "idbi_data['Date'] = pd.to_datetime(idbi_data.index)\n",
        "idbi_data.index= idbi_data['Date'].dt.date"
      ],
      "metadata": {
        "id": "74c1AfuqEehu"
      },
      "execution_count": null,
      "outputs": []
    },
    {
      "cell_type": "markdown",
      "source": [
        "Renaming the Close field to stock_close"
      ],
      "metadata": {
        "id": "NmTGrZ7xR1Hn"
      }
    },
    {
      "cell_type": "code",
      "source": [
        "axisb_data.rename(columns = {'Close':'axisb_Close'}, inplace = True)"
      ],
      "metadata": {
        "id": "Rv8Gn8J0EgPU"
      },
      "execution_count": null,
      "outputs": []
    },
    {
      "cell_type": "code",
      "source": [
        "idbi_data.rename(columns = {'Close':'idbi_Close'}, inplace = True)"
      ],
      "metadata": {
        "id": "ipeQiIGDEh1S"
      },
      "execution_count": null,
      "outputs": []
    },
    {
      "cell_type": "markdown",
      "source": [
        "Concatenating the Close fields of both the stocks into a new dataframe"
      ],
      "metadata": {
        "id": "EjgcM8tGR2Ai"
      }
    },
    {
      "cell_type": "code",
      "source": [
        "final1=pd.concat([axisb_data['axisb_Close'],idbi_data['idbi_Close']],axis=1)"
      ],
      "metadata": {
        "id": "XN4sEjtWEjTy"
      },
      "execution_count": null,
      "outputs": []
    },
    {
      "cell_type": "markdown",
      "source": [
        "Adding a new field of ratio of the close values to this dataframe"
      ],
      "metadata": {
        "id": "4COvoz9YR8yk"
      }
    },
    {
      "cell_type": "code",
      "source": [
        "final1['Close_final']=final1['idbi_Close']/final1['axisb_Close']\n",
        "final1.dropna(inplace=True)"
      ],
      "metadata": {
        "id": "7LWmQ4-hOnO3"
      },
      "execution_count": null,
      "outputs": []
    },
    {
      "cell_type": "markdown",
      "source": [
        "Finding the ADF parameters:\n",
        "\n",
        "Test Statistic, Critical Value, p-value"
      ],
      "metadata": {
        "id": "H_9PtrI2SV7Z"
      }
    },
    {
      "cell_type": "code",
      "source": [
        "result = adfuller(final1['Close_final'])\n",
        "print('ADF Test Statistic: %f' % result[0])\n",
        "print('5%% Critical Value: %f' % result[4]['5%'])\n",
        "print('p-value: %f' % result[1])"
      ],
      "metadata": {
        "colab": {
          "base_uri": "https://localhost:8080/"
        },
        "id": "RwZX8yonOrh_",
        "outputId": "d6695bf6-0109-4ef4-81b8-3dc53f16b3f6"
      },
      "execution_count": null,
      "outputs": [
        {
          "output_type": "stream",
          "name": "stdout",
          "text": [
            "ADF Test Statistic: -2.961229\n",
            "5% Critical Value: -2.873362\n",
            "p-value: 0.038677\n"
          ]
        }
      ]
    },
    {
      "cell_type": "markdown",
      "source": [
        "Since the ADF Test Statistic is more negative than the 5% CV, and also the p-value(0.038) is less than 0.05, Axis Bank and IDBI are a pair of stationary stocks between 1 June 2022 and 31 May 2023."
      ],
      "metadata": {
        "id": "hi8WIstfSYhx"
      }
    },
    {
      "cell_type": "markdown",
      "source": [
        "# Part 2 :Graphs"
      ],
      "metadata": {
        "id": "pkQl-72sSoK0"
      }
    },
    {
      "cell_type": "code",
      "source": [
        "final1['std']=final1['Close_final'].std()\n",
        "final1['mean']=final1['Close_final'].mean()\n",
        "final1['Z-Score']=(final1['Close_final']-final1['mean'])/final1['std']"
      ],
      "metadata": {
        "id": "54fC9g5ESjmL"
      },
      "execution_count": null,
      "outputs": []
    },
    {
      "cell_type": "code",
      "source": [
        "final1['ZSc_mean']=final1['Z-Score'].mean()\n",
        "final1['ZSc_mean+2Std']=final1['Z-Score'].mean()+2*final1['Z-Score'].std()\n",
        "final1['ZSc_mean-2Std']=final1['Z-Score'].mean()-2*final1['Z-Score'].std()\n",
        "final1['ZSc_mean+1.5Std']=final1['Z-Score'].mean()+(1.5)*final1['Z-Score'].std()\n",
        "final1['ZSc_mean-1.5Std']=final1['Z-Score'].mean()-(1.5)*final1['Z-Score'].std()\n",
        "final1['ZSc_mean+1Std']=final1['Z-Score'].mean()+1*final1['Z-Score'].std()\n",
        "final1['ZSc_mean-1Std']=final1['Z-Score'].mean()-1*final1['Z-Score'].std()"
      ],
      "metadata": {
        "id": "aDsDQM0QSwAy"
      },
      "execution_count": null,
      "outputs": []
    },
    {
      "cell_type": "code",
      "source": [
        "x_axis=final1.index\n",
        "y_axis=final1['Z-Score']\n",
        "z=final1['ZSc_mean']\n",
        "b=final1['ZSc_mean+2Std']\n",
        "c=final1['ZSc_mean-2Std']\n",
        "d=final1['ZSc_mean+1.5Std']\n",
        "e=final1['ZSc_mean-1.5Std']\n",
        "f=final1['ZSc_mean+1Std']\n",
        "g=final1['ZSc_mean-1Std']"
      ],
      "metadata": {
        "id": "RKu8esUBS0bH"
      },
      "execution_count": null,
      "outputs": []
    },
    {
      "cell_type": "code",
      "source": [
        "plt.plot(x_axis,y_axis,color='b',label='Z-Score')\n",
        "plt.plot(x_axis,z,color='r',linestyle='dashed',label='mean=0')\n",
        "plt.plot(x_axis,b,color='g',linestyle='dashed',label='mean+2*std=2')\n",
        "plt.plot(x_axis,c,color='k',linestyle='dashed',label='mean-2*std=-2')\n",
        "plt.plot(x_axis,d,color='g',linestyle='dashed',label='mean+1.5*std=1.5')\n",
        "plt.plot(x_axis,e,color='k',linestyle='dashed',label='mean-1.5*std=-1.5')\n",
        "plt.plot(x_axis,f,color='g',linestyle='dashed',label='mean+1*std=1')\n",
        "plt.plot(x_axis,g,color='k',linestyle='dashed',label='mean-1*std=-1')\n",
        "plt.title(\"Z-Score of Stationary pair of stocks: Axis and IDBI\")\n",
        "#plt.legend()\n",
        "plt.xlabel(\"Time Period\")\n",
        "plt.ylabel(\"Z-Scores\")"
      ],
      "metadata": {
        "colab": {
          "base_uri": "https://localhost:8080/",
          "height": 489
        },
        "id": "BDUeNyz8TxQm",
        "outputId": "8d24e93f-4b82-4b46-9840-7bca2293aa33"
      },
      "execution_count": null,
      "outputs": [
        {
          "output_type": "execute_result",
          "data": {
            "text/plain": [
              "Text(0, 0.5, 'Z-Scores')"
            ]
          },
          "metadata": {},
          "execution_count": 120
        },
        {
          "output_type": "display_data",
          "data": {
            "text/plain": [
              "<Figure size 640x480 with 1 Axes>"
            ],
            "image/png": "[encoded data removed]"
          },
          "metadata": {}
        }
      ]
    }
  ]
}