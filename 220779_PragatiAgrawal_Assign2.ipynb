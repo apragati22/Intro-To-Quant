{
  "nbformat": 4,
  "nbformat_minor": 0,
  "metadata": {
    "colab": {
      "provenance": []
    },
    "kernelspec": {
      "name": "python3",
      "display_name": "Python 3"
    },
    "language_info": {
      "name": "python"
    }
  },
  "cells": [
    {
      "cell_type": "markdown",
      "source": [
        "# Intro to Quant Trading: Assignment 2\n"
      ],
      "metadata": {
        "id": "niKniOWovGiD"
      }
    },
    {
      "cell_type": "markdown",
      "source": [
        "#TASK1"
      ],
      "metadata": {
        "id": "Tu3Fz3QaXRBz"
      }
    },
    {
      "cell_type": "markdown",
      "source": [
        "Finding a pair of stationary and a pair of non-stationary stocks"
      ],
      "metadata": {
        "id": "GyfLNRiWazSI"
      }
    },
    {
      "cell_type": "code",
      "execution_count": null,
      "metadata": {
        "id": "0XRqIBmsLpKs"
      },
      "outputs": [],
      "source": [
        "from statsmodels.tsa.stattools import adfuller"
      ]
    },
    {
      "cell_type": "code",
      "source": [
        "import pandas as pd\n",
        "import numpy as np\n",
        "import yfinance as yf\n",
        "import datetime as dt"
      ],
      "metadata": {
        "id": "Uf_T7Z00MAMG"
      },
      "execution_count": null,
      "outputs": []
    },
    {
      "cell_type": "code",
      "source": [
        "import matplotlib.pyplot as plt\n",
        "%matplotlib inline"
      ],
      "metadata": {
        "id": "983kUNfVMJQd"
      },
      "execution_count": null,
      "outputs": []
    },
    {
      "cell_type": "code",
      "source": [
        "strtDate=dt.datetime(2023,1,1)\n",
        "endDate=dt.datetime(2023,5,25)"
      ],
      "metadata": {
        "id": "cqcOKYwXT-sZ"
      },
      "execution_count": null,
      "outputs": []
    },
    {
      "cell_type": "markdown",
      "source": [
        "I choose tickers of:\n",
        "\n",
        "1) SBI\n",
        "\n",
        "2) IDBI First Bank\n",
        "\n",
        "3) Amazon\n",
        "\n",
        "4) Walmart"
      ],
      "metadata": {
        "id": "9Qp-Uk20wazd"
      }
    },
    {
      "cell_type": "code",
      "source": [
        "tickers=yf.Ticker('SBIN.NS IDBI.NS AMZN WMT')"
      ],
      "metadata": {
        "id": "oSJm9s66Mm7R"
      },
      "execution_count": null,
      "outputs": []
    },
    {
      "cell_type": "code",
      "source": [
        "data=yf.download(\"SBIN.NS IDBI.NS AMZN WMT\", start=\"2023-01-01\", end=\"2023-05-25\")"
      ],
      "metadata": {
        "colab": {
          "base_uri": "https://localhost:8080/"
        },
        "id": "7RtQQU4iOwLf",
        "outputId": "f20c1c01-11b5-4555-a264-1876c3473cb6"
      },
      "execution_count": null,
      "outputs": [
        {
          "output_type": "stream",
          "name": "stdout",
          "text": [
            "[*********************100%***********************]  4 of 4 completed\n"
          ]
        }
      ]
    },
    {
      "cell_type": "markdown",
      "source": [
        "# Finding a pair of Stationary stocks"
      ],
      "metadata": {
        "id": "YSD86oztwrLV"
      }
    },
    {
      "cell_type": "code",
      "source": [
        "sbi=yf.Ticker(\"SBIN.NS\")\n",
        "sbi_data=sbi.history(start=strtDate,end=endDate)"
      ],
      "metadata": {
        "id": "-bCcs4jcT4Bl"
      },
      "execution_count": null,
      "outputs": []
    },
    {
      "cell_type": "code",
      "source": [
        "idbi=yf.Ticker(\"IDBI.NS\")\n",
        "idbi_data=idbi.history(start=strtDate,end=endDate)"
      ],
      "metadata": {
        "id": "Vh3btImST7CE"
      },
      "execution_count": null,
      "outputs": []
    },
    {
      "cell_type": "markdown",
      "source": [
        "Removing time parameter from Date indices of stocks dataframes"
      ],
      "metadata": {
        "id": "Jf3HUXqtw4QE"
      }
    },
    {
      "cell_type": "code",
      "source": [
        "sbi_data['Date'] = pd.to_datetime(sbi_data.index)\n",
        "sbi_data.index= sbi_data['Date'].dt.date"
      ],
      "metadata": {
        "id": "J76tDp6bLAAf"
      },
      "execution_count": null,
      "outputs": []
    },
    {
      "cell_type": "code",
      "source": [
        "idbi_data['Date'] = pd.to_datetime(idbi_data.index)\n",
        "idbi_data.index= idbi_data['Date'].dt.date"
      ],
      "metadata": {
        "id": "DGwlzT-6W3Nc"
      },
      "execution_count": null,
      "outputs": []
    },
    {
      "cell_type": "markdown",
      "source": [
        "Renaming the Close field to stock_close"
      ],
      "metadata": {
        "id": "ur_tJGStxFtN"
      }
    },
    {
      "cell_type": "code",
      "source": [
        "sbi_data.rename(columns = {'Close':'sbi_Close'}, inplace = True)"
      ],
      "metadata": {
        "id": "aEIs57rWOIwY"
      },
      "execution_count": null,
      "outputs": []
    },
    {
      "cell_type": "code",
      "source": [
        "idbi_data.rename(columns = {'Close':'idbi_Close'}, inplace = True)"
      ],
      "metadata": {
        "id": "NHoHAt2kpWoK"
      },
      "execution_count": null,
      "outputs": []
    },
    {
      "cell_type": "markdown",
      "source": [
        "Concatenating the Close fields of both the stocks into a new dataframe"
      ],
      "metadata": {
        "id": "BVL_asDLxQZG"
      }
    },
    {
      "cell_type": "code",
      "source": [
        "final1=pd.concat([sbi_data['sbi_Close'],idbi_data['idbi_Close']],axis=1)"
      ],
      "metadata": {
        "id": "Gzspa8PMM9MT"
      },
      "execution_count": null,
      "outputs": []
    },
    {
      "cell_type": "markdown",
      "source": [
        "Adding a new field of ratio of the close values to this dataframe"
      ],
      "metadata": {
        "id": "JeRd8XygxXmg"
      }
    },
    {
      "cell_type": "code",
      "source": [
        "final1['Close_final']=final1['idbi_Close']/final1['sbi_Close']\n",
        "final1.dropna(inplace=True)"
      ],
      "metadata": {
        "id": "vAFkLuTiNLgt"
      },
      "execution_count": null,
      "outputs": []
    },
    {
      "cell_type": "markdown",
      "source": [
        "Finding the ADF parameters:\n",
        "\n",
        "Test Statistic, Critical Value, p-value"
      ],
      "metadata": {
        "id": "WAVcnq7Uxe4B"
      }
    },
    {
      "cell_type": "code",
      "source": [
        "result = adfuller(final1['Close_final'])\n",
        "print('ADF Test Statistic: %f' % result[0])\n",
        "print('5%% Critical Value: %f' % result[4]['5%'])\n",
        "print('p-value: %f' % result[1])"
      ],
      "metadata": {
        "colab": {
          "base_uri": "https://localhost:8080/"
        },
        "id": "bEuVa4XIVRgi",
        "outputId": "548e880e-9797-482a-e52b-782cc99bc0e7"
      },
      "execution_count": null,
      "outputs": [
        {
          "output_type": "stream",
          "name": "stdout",
          "text": [
            "ADF Test Statistic: -3.211461\n",
            "5% Critical Value: -2.892480\n",
            "p-value: 0.019331\n"
          ]
        }
      ]
    },
    {
      "cell_type": "markdown",
      "source": [
        "Since the ADF Test Statistic is more negative than the 5% CV, and also the p-value(0.02) is less than 0.05, **SBI and IDBI are a pair of stationary stocks** between 1 Jan 2023 and 25 May 2023."
      ],
      "metadata": {
        "id": "-C_e_Kxdxp13"
      }
    },
    {
      "cell_type": "markdown",
      "source": [
        "# Finding a pair of Non-Stationary stocks"
      ],
      "metadata": {
        "id": "3jqYYXwP4hyM"
      }
    },
    {
      "cell_type": "code",
      "source": [
        "amazon=yf.Ticker(\"AMZN\")\n",
        "amazon_data=amazon.history(start=strtDate,end=endDate)"
      ],
      "metadata": {
        "id": "fw1o4PGgYshr"
      },
      "execution_count": null,
      "outputs": []
    },
    {
      "cell_type": "code",
      "source": [
        "walmart=yf.Ticker(\"WMT\")\n",
        "walmart_data=walmart.history(start=strtDate,end=endDate)"
      ],
      "metadata": {
        "id": "HyiVdLnKdZVL"
      },
      "execution_count": null,
      "outputs": []
    },
    {
      "cell_type": "markdown",
      "source": [
        "Removing time parameter from Date indices of stocks dataframes"
      ],
      "metadata": {
        "id": "97azaeaC7ULg"
      }
    },
    {
      "cell_type": "code",
      "source": [
        "amazon_data['Date'] = pd.to_datetime(amazon_data.index)\n",
        "amazon_data.index= amazon_data['Date'].dt.date"
      ],
      "metadata": {
        "id": "GXJgo9SUW4k-"
      },
      "execution_count": null,
      "outputs": []
    },
    {
      "cell_type": "code",
      "source": [
        "walmart_data['Date'] = pd.to_datetime(walmart_data.index)\n",
        "walmart_data.index= walmart_data['Date'].dt.date"
      ],
      "metadata": {
        "id": "OZZvcbWzW41U"
      },
      "execution_count": null,
      "outputs": []
    },
    {
      "cell_type": "markdown",
      "source": [
        "Renaming the Close field to stock_close"
      ],
      "metadata": {
        "id": "SNxzvCLq7bOf"
      }
    },
    {
      "cell_type": "code",
      "source": [
        "amazon_data.rename(columns = {'Close':'amazon_Close'}, inplace = True)"
      ],
      "metadata": {
        "id": "aDtgzdlIpWwQ"
      },
      "execution_count": null,
      "outputs": []
    },
    {
      "cell_type": "code",
      "source": [
        "walmart_data.rename(columns = {'Close':'walmart_Close'}, inplace = True)"
      ],
      "metadata": {
        "id": "olhiz38rpW3V"
      },
      "execution_count": null,
      "outputs": []
    },
    {
      "cell_type": "markdown",
      "source": [
        "Concatenating the Close fields of both the stocks to a new dataframe"
      ],
      "metadata": {
        "id": "peHAq4Eu7z0R"
      }
    },
    {
      "cell_type": "code",
      "source": [
        "final2=pd.concat([amazon_data['amazon_Close'],walmart_data['walmart_Close']],axis=1)"
      ],
      "metadata": {
        "id": "ZfadJ369W9Fw"
      },
      "execution_count": null,
      "outputs": []
    },
    {
      "cell_type": "markdown",
      "source": [
        " Adding a new field of ratio of the close values to this dataframe"
      ],
      "metadata": {
        "id": "WbsznXnp73z7"
      }
    },
    {
      "cell_type": "code",
      "source": [
        "final2['Close_final']=final2['walmart_Close']/final2['amazon_Close']\n",
        "final2.dropna(inplace=True)"
      ],
      "metadata": {
        "id": "Dtjlat52XDBb"
      },
      "execution_count": null,
      "outputs": []
    },
    {
      "cell_type": "markdown",
      "source": [
        "Finding the ADF parameters:\n",
        "\n",
        "Test Statistic, Critical Value, p-value"
      ],
      "metadata": {
        "id": "owKWlYFT8Gd2"
      }
    },
    {
      "cell_type": "code",
      "source": [
        "result = adfuller(final2['Close_final'])\n",
        "print('ADF Test Statistic: %f' % result[0])\n",
        "print('5%% Critical Value: %f' % result[4]['5%'])\n",
        "print('p-value: %f' % result[1])"
      ],
      "metadata": {
        "colab": {
          "base_uri": "https://localhost:8080/"
        },
        "id": "LyCLOGONVSWq",
        "outputId": "e94730aa-1ab9-4603-a144-6ab7d657416b"
      },
      "execution_count": null,
      "outputs": [
        {
          "output_type": "stream",
          "name": "stdout",
          "text": [
            "ADF Test Statistic: -1.874896\n",
            "5% Critical Value: -2.894990\n",
            "p-value: 0.343962\n"
          ]
        }
      ]
    },
    {
      "cell_type": "markdown",
      "source": [
        "Since the ADF Test Statistic is less negative than the 5% CV, and also the p-value(0.34) is greater than 0.05, **Amazon and Walmart are a pair of non-stationary stocks** between 1 Jan 2023 and 25 May 2023."
      ],
      "metadata": {
        "id": "HZ7aoWsC8JCc"
      }
    },
    {
      "cell_type": "markdown",
      "source": [
        "# TASK2"
      ],
      "metadata": {
        "id": "5JUCgCc8XHNY"
      }
    },
    {
      "cell_type": "markdown",
      "source": [
        "Finding the Z-Scores of Ratio of Close values"
      ],
      "metadata": {
        "id": "k-ByZMMtyfc1"
      }
    },
    {
      "cell_type": "markdown",
      "source": [
        "Adding columns of mean and standard deviations of close ratios to the dataframe"
      ],
      "metadata": {
        "id": "f-3oSFtw8Zmx"
      }
    },
    {
      "cell_type": "code",
      "source": [
        "final1['std']=final1['Close_final'].std()\n",
        "final1['mean']=final1['Close_final'].mean()"
      ],
      "metadata": {
        "id": "wpuNfAebjAww"
      },
      "execution_count": null,
      "outputs": []
    },
    {
      "cell_type": "code",
      "source": [
        "final2['std']=final2['Close_final'].std()\n",
        "final2['mean']=final2['Close_final'].mean()"
      ],
      "metadata": {
        "id": "8EbvvwFFwPA2"
      },
      "execution_count": null,
      "outputs": []
    },
    {
      "cell_type": "markdown",
      "source": [
        "The Z-Score of the ratios of close values of Stationary Stocks"
      ],
      "metadata": {
        "id": "88cAQQLz82Mn"
      }
    },
    {
      "cell_type": "code",
      "source": [
        "final1['Z-Score']=(final1['Close_final']-final1['mean'])/final1['std']"
      ],
      "metadata": {
        "id": "PTyO152uuAbF"
      },
      "execution_count": null,
      "outputs": []
    },
    {
      "cell_type": "code",
      "source": [
        "final1['ZSc_mean']=final1['Z-Score'].mean()\n",
        "final1['ZSc_mean+2Std']=final1['Z-Score'].mean()+2*final1['Z-Score'].std()\n",
        "final1['ZSc_mean-2Std']=final1['Z-Score'].mean()-2*final1['Z-Score'].std()"
      ],
      "metadata": {
        "id": "s77dWcYbuTRM"
      },
      "execution_count": null,
      "outputs": []
    },
    {
      "cell_type": "markdown",
      "source": [
        "The graph of Z-Score, Mean and ±2*std deviation v/s Time for the pair of stationary stocks (SBI and IDBI)"
      ],
      "metadata": {
        "id": "o98L_phf8-y0"
      }
    },
    {
      "cell_type": "code",
      "source": [
        "x_axis=final1.index\n",
        "y_axis=final1['Z-Score']\n",
        "z=final1['ZSc_mean']\n",
        "b=final1['ZSc_mean+2Std']\n",
        "c=final1['ZSc_mean-2Std']\n",
        "\n",
        "plt.plot(x_axis,y_axis,color='b',label='Z-Score')\n",
        "plt.plot(x_axis,z,color='r',linestyle='dashed',label='mean=0')\n",
        "plt.plot(x_axis,b,color='g',linestyle='dashed',label='mean+2*std=2')\n",
        "plt.plot(x_axis,c,color='k',linestyle='dashed',label='mean-2*std=-2')\n",
        "plt.title(\"Z-Score of Stationary pair of stocks: SBI and IDBI\")\n",
        "plt.legend()\n",
        "plt.xlabel(\"Time Period\")\n",
        "plt.ylabel(\"Z-Scores\")"
      ],
      "metadata": {
        "colab": {
          "base_uri": "https://localhost:8080/",
          "height": 489
        },
        "id": "bxuzxT_puW6t",
        "outputId": "e3db0a16-64f5-4014-e6e6-ccaacda0228f"
      },
      "execution_count": null,
      "outputs": [
        {
          "output_type": "execute_result",
          "data": {
            "text/plain": [
              "Text(0, 0.5, 'Z-Scores')"
            ]
          },
          "metadata": {},
          "execution_count": 118
        },
        {
          "output_type": "display_data",
          "data": {
            "text/plain": [
              "<Figure size 640x480 with 1 Axes>"
            ],
            "image/png": "[encoded data removed]"
          },
          "metadata": {}
        }
      ]
    },
    {
      "cell_type": "markdown",
      "source": [
        "The Z-Score of the ratios of close values of Non-Stationary Stocks"
      ],
      "metadata": {
        "id": "B2xGXrTD0_0I"
      }
    },
    {
      "cell_type": "code",
      "source": [
        "final2['Z-Score']=(final2['Close_final']-final2['mean'])/final2['std']"
      ],
      "metadata": {
        "id": "2PbMKwJTvV5W"
      },
      "execution_count": null,
      "outputs": []
    },
    {
      "cell_type": "code",
      "source": [
        "final2['ZSc_mean']=final2['Z-Score'].mean()\n",
        "final2['ZSc_mean+2Std']=final2['Z-Score'].mean()+2*final2['Z-Score'].std()\n",
        "final2['ZSc_mean-2Std']=final2['Z-Score'].mean()-2*final2['Z-Score'].std()"
      ],
      "metadata": {
        "id": "XX9S6QLYyiD_"
      },
      "execution_count": null,
      "outputs": []
    },
    {
      "cell_type": "markdown",
      "source": [
        " Plotting the graph of Z-Score, Mean and ±2*std deviation v/s Time for the pair of non-stationary stocks (Amazon and Walmart)"
      ],
      "metadata": {
        "id": "f23X4cJI9MiI"
      }
    },
    {
      "cell_type": "code",
      "source": [
        "x_axis=final2.index\n",
        "y_axis=final2['Z-Score']\n",
        "z=final2['ZSc_mean']\n",
        "b=final2['ZSc_mean+2Std']\n",
        "c=final2['ZSc_mean-2Std']\n",
        "\n",
        "plt.plot(x_axis,y_axis,color='b',label='Z-Score')\n",
        "plt.plot(x_axis,z,color='r',linestyle='dashed',label='mean=0')\n",
        "plt.plot(x_axis,b,color='g',linestyle='dashed',label='mean+2*std=2')\n",
        "plt.plot(x_axis,c,color='k',linestyle='dashed',label='mean-2*std=-2')\n",
        "plt.title(\"Z-Score of Non-Stationary pair of stocks: Amazon and Walmart\")\n",
        "plt.legend()\n",
        "plt.xlabel(\"Time Period\")\n",
        "plt.ylabel(\"Z-Scores\")"
      ],
      "metadata": {
        "colab": {
          "base_uri": "https://localhost:8080/",
          "height": 489
        },
        "id": "_zs1QVmN8ouJ",
        "outputId": "4b237ec2-3aad-4f29-ed0d-cf1bf3142c97"
      },
      "execution_count": null,
      "outputs": [
        {
          "output_type": "execute_result",
          "data": {
            "text/plain": [
              "Text(0, 0.5, 'Z-Scores')"
            ]
          },
          "metadata": {},
          "execution_count": 119
        },
        {
          "output_type": "display_data",
          "data": {
            "text/plain": [
              "<Figure size 640x480 with 1 Axes>"
            ],
            "image/png": "[encoded data removed]"
          },
          "metadata": {}
        }
      ]
    },
    {
      "cell_type": "markdown",
      "source": [
        "# TASK 3"
      ],
      "metadata": {
        "id": "8ENXAOZjzCjZ"
      }
    },
    {
      "cell_type": "markdown",
      "source": [
        "Finding the sharpe ratio for the stock **Amazon** in the year 2022"
      ],
      "metadata": {
        "id": "vT3uvd-k9g1w"
      }
    },
    {
      "cell_type": "code",
      "source": [
        "data = yf.download(\"AMZN\", start=\"2022-01-01\",end=\"2022-12-31\")\n",
        "data = data['Adj Close']"
      ],
      "metadata": {
        "colab": {
          "base_uri": "https://localhost:8080/"
        },
        "id": "oVGtmV_I3f0l",
        "outputId": "0f3fffb8-6f17-41e5-f0c2-e5cc98149e20"
      },
      "execution_count": null,
      "outputs": [
        {
          "output_type": "stream",
          "name": "stdout",
          "text": [
            "\r[*********************100%***********************]  1 of 1 completed\n"
          ]
        }
      ]
    },
    {
      "cell_type": "code",
      "source": [
        "portfolio = [0.40]\n",
        "log_return = np.log(data/data.shift())*portfolio"
      ],
      "metadata": {
        "id": "FQwkWf374jtv"
      },
      "execution_count": null,
      "outputs": []
    },
    {
      "cell_type": "code",
      "source": [
        "sharpe_ratio = log_return.mean()/log_return.std()\n",
        "sharpe_ratio"
      ],
      "metadata": {
        "colab": {
          "base_uri": "https://localhost:8080/"
        },
        "id": "VbCdEwX85a-N",
        "outputId": "72a03735-ceca-454f-8c44-f5714d14744a"
      },
      "execution_count": null,
      "outputs": [
        {
          "output_type": "execute_result",
          "data": {
            "text/plain": [
              "-0.08952965683411189"
            ]
          },
          "metadata": {},
          "execution_count": 91
        }
      ]
    },
    {
      "cell_type": "code",
      "source": [
        "Annual_SR = sharpe_ratio*252**.5\n",
        "Annual_SR"
      ],
      "metadata": {
        "colab": {
          "base_uri": "https://localhost:8080/"
        },
        "id": "AlFjEXao5ec5",
        "outputId": "04ff475b-8073-43b0-f70d-6ff84fbcf45a"
      },
      "execution_count": null,
      "outputs": [
        {
          "output_type": "execute_result",
          "data": {
            "text/plain": [
              "-1.4212392416880866"
            ]
          },
          "metadata": {},
          "execution_count": 92
        }
      ]
    },
    {
      "cell_type": "markdown",
      "source": [
        "# TASK 4"
      ],
      "metadata": {
        "id": "j5-kIq1Z8AQt"
      }
    },
    {
      "cell_type": "markdown",
      "source": [
        " A **golden cross** is defined as the point where the short term SMA crosses above the long term SMA. It indicates a *Bullish breakout market* as long-term SMA have more weight, and short term going above it is incredible!\n",
        "\n",
        "\n",
        " On the other hand a **Death Cross** is defined as the point where the short term SMA cross below the long term SMA. It indicates a *Bearish market* and many investors buy stocks during this period based on their careful analysis."
      ],
      "metadata": {
        "id": "Aqm3ZIkYdgF8"
      }
    },
    {
      "cell_type": "markdown",
      "source": [
        "Analysing Golden Cross for **Amazon**"
      ],
      "metadata": {
        "id": "QM6I9lArcXJ_"
      }
    },
    {
      "cell_type": "code",
      "source": [
        "df=yf.download(\"AMZN\", start=\"2021-01-01\",end=\"2022-12-31\")"
      ],
      "metadata": {
        "colab": {
          "base_uri": "https://localhost:8080/"
        },
        "id": "qtJ5vcVTq3E0",
        "outputId": "83737517-5002-4883-8422-88ee4c94b81d"
      },
      "execution_count": null,
      "outputs": [
        {
          "output_type": "stream",
          "name": "stdout",
          "text": [
            "\r[*********************100%***********************]  1 of 1 completed\n"
          ]
        }
      ]
    },
    {
      "cell_type": "markdown",
      "source": [
        "Used the 15 day short-term SMA and 50 day long-term SMA for analysis."
      ],
      "metadata": {
        "id": "nCJQUPSIchu6"
      }
    },
    {
      "cell_type": "code",
      "source": [
        "df[\"15_sma\"] = df[\"Adj Close\"].rolling(15).mean()\n",
        "df[\"50_sma\"] = df[\"Adj Close\"].rolling(50).mean()\n",
        "df = df.dropna()"
      ],
      "metadata": {
        "id": "E8sLLn5T8D95"
      },
      "execution_count": null,
      "outputs": []
    },
    {
      "cell_type": "markdown",
      "source": [
        "The SMA plots, showing Golden crosses and Death Crosses in the two years 2021 and 2022"
      ],
      "metadata": {
        "id": "IBh-VUA5Dix8"
      }
    },
    {
      "cell_type": "code",
      "source": [
        "fig, axes = plt.subplots(1,1, figsize=(8,4))\n",
        "df[[\"50_sma\",\"15_sma\"]].plot(figsize=(8,4), grid=True, title=\"SMA 15 vs SMA 50 on AMZN prices\", ax=axes)\n",
        "\n",
        "axes.legend()\n",
        "fig.tight_layout()"
      ],
      "metadata": {
        "id": "8ASDjn-rqux_",
        "colab": {
          "base_uri": "https://localhost:8080/",
          "height": 407
        },
        "outputId": "fd459485-b223-4776-ef46-e9588c87a67c"
      },
      "execution_count": null,
      "outputs": [
        {
          "output_type": "display_data",
          "data": {
            "text/plain": [
              "<Figure size 800x400 with 1 Axes>"
            ],
            "image/png": "[encoded data removed]"
          },
          "metadata": {}
        }
      ]
    },
    {
      "cell_type": "markdown",
      "source": [
        "# Finding the Golden Cross dates"
      ],
      "metadata": {
        "id": "nefPuxQ1wQ5y"
      }
    },
    {
      "cell_type": "markdown",
      "source": [
        "Assigns 0 and 1 if short-term is lower or higher to long-term SMA respectively"
      ],
      "metadata": {
        "id": "Z5JyBntiDDVs"
      }
    },
    {
      "cell_type": "code",
      "source": [
        "df[\"golden_cross_signal\"] = df.apply(lambda row: 1 if row[f\"15_sma\"] > row[f\"50_sma\"]  else 0, axis=1)"
      ],
      "metadata": {
        "colab": {
          "base_uri": "https://localhost:8080/"
        },
        "id": "275okUWCqhVt",
        "outputId": "cd43bc6b-5e7f-4f2e-89c8-c915832b7ded"
      },
      "execution_count": null,
      "outputs": [
        {
          "output_type": "stream",
          "name": "stderr",
          "text": [
            "<ipython-input-96-c52d3482079f>:1: SettingWithCopyWarning: \n",
            "A value is trying to be set on a copy of a slice from a DataFrame.\n",
            "Try using .loc[row_indexer,col_indexer] = value instead\n",
            "\n",
            "See the caveats in the documentation: https://pandas.pydata.org/pandas-docs/stable/user_guide/indexing.html#returning-a-view-versus-a-copy\n",
            "  df[\"golden_cross_signal\"] = df.apply(lambda row: 1 if row[f\"15_sma\"] > row[f\"50_sma\"]  else 0, axis=1)\n"
          ]
        }
      ]
    },
    {
      "cell_type": "markdown",
      "source": [
        "Finds the date of golden_cross in the given time period"
      ],
      "metadata": {
        "id": "36wXu3gbDZBz"
      }
    },
    {
      "cell_type": "code",
      "source": [
        "list_golden_cross_ts = []\n",
        "first_golden_cross = False"
      ],
      "metadata": {
        "id": "xID-eAdTviGs"
      },
      "execution_count": null,
      "outputs": []
    },
    {
      "cell_type": "code",
      "source": [
        "for idx, each in df[\"golden_cross_signal\"].iteritems():\n",
        "    if each == 1:\n",
        "        # If its the first golden cross we see we add the timestamp\n",
        "        if first_golden_cross:\n",
        "            list_golden_cross_ts.append(idx)\n",
        "            first_golden_cross = False\n",
        "    else:\n",
        "        first_golden_cross = True"
      ],
      "metadata": {
        "colab": {
          "base_uri": "https://localhost:8080/"
        },
        "id": "wg_BLZ_9vnEz",
        "outputId": "8ccbf837-a19e-4e8d-fb48-2d7485264998"
      },
      "execution_count": null,
      "outputs": [
        {
          "output_type": "stream",
          "name": "stderr",
          "text": [
            "<ipython-input-98-d97a0418af68>:1: FutureWarning: iteritems is deprecated and will be removed in a future version. Use .items instead.\n",
            "  for idx, each in df[\"golden_cross_signal\"].iteritems():\n"
          ]
        }
      ]
    },
    {
      "cell_type": "markdown",
      "source": [
        "Prints the dates of Golden Crosses"
      ],
      "metadata": {
        "id": "Wwsb99OcDfLO"
      }
    },
    {
      "cell_type": "code",
      "source": [
        "list_golden_cross_ts"
      ],
      "metadata": {
        "colab": {
          "base_uri": "https://localhost:8080/"
        },
        "id": "mDhFWLYhKCtD",
        "outputId": "f6a8f19a-ded2-4c52-8600-2b6ec7908113"
      },
      "execution_count": null,
      "outputs": [
        {
          "output_type": "execute_result",
          "data": {
            "text/plain": [
              "[Timestamp('2021-04-13 00:00:00'),\n",
              " Timestamp('2021-06-21 00:00:00'),\n",
              " Timestamp('2021-09-16 00:00:00'),\n",
              " Timestamp('2021-11-03 00:00:00'),\n",
              " Timestamp('2022-03-25 00:00:00'),\n",
              " Timestamp('2022-07-20 00:00:00')]"
            ]
          },
          "metadata": {},
          "execution_count": 99
        }
      ]
    },
    {
      "cell_type": "markdown",
      "source": [
        "# Finding the Death Cross Dates"
      ],
      "metadata": {
        "id": "0f94wTq1wLEC"
      }
    },
    {
      "cell_type": "markdown",
      "source": [
        "Assigns 0 and 1 if short-term is lower or higher to long-term SMA respectively"
      ],
      "metadata": {
        "id": "xBQDB5tlwGg9"
      }
    },
    {
      "cell_type": "code",
      "source": [
        "df[\"death_cross_signal\"] = df.apply(lambda row: 1 if row[f\"15_sma\"] > row[f\"50_sma\"]  else 0, axis=1)"
      ],
      "metadata": {
        "colab": {
          "base_uri": "https://localhost:8080/"
        },
        "id": "K9LLVXdLwEvX",
        "outputId": "c2d7249a-3cb5-43ca-d63b-69372683c63a"
      },
      "execution_count": null,
      "outputs": [
        {
          "output_type": "stream",
          "name": "stderr",
          "text": [
            "<ipython-input-100-d334f304b5f4>:1: SettingWithCopyWarning: \n",
            "A value is trying to be set on a copy of a slice from a DataFrame.\n",
            "Try using .loc[row_indexer,col_indexer] = value instead\n",
            "\n",
            "See the caveats in the documentation: https://pandas.pydata.org/pandas-docs/stable/user_guide/indexing.html#returning-a-view-versus-a-copy\n",
            "  df[\"death_cross_signal\"] = df.apply(lambda row: 1 if row[f\"15_sma\"] > row[f\"50_sma\"]  else 0, axis=1)\n"
          ]
        }
      ]
    },
    {
      "cell_type": "markdown",
      "source": [
        "Finds the date of Death cross in the given time period"
      ],
      "metadata": {
        "id": "lQwmMEFJxtkg"
      }
    },
    {
      "cell_type": "code",
      "source": [
        "list_death_cross_ts = []\n",
        "first_death_cross = False"
      ],
      "metadata": {
        "id": "WjHawb6QwggH"
      },
      "execution_count": null,
      "outputs": []
    },
    {
      "cell_type": "code",
      "source": [
        "for idx, each in df[\"death_cross_signal\"].iteritems():\n",
        "    if each == 0:\n",
        "        # If its the first golden cross we see we add the timestamp\n",
        "        if first_death_cross:\n",
        "            list_death_cross_ts.append(idx)\n",
        "            first_death_cross = False\n",
        "    else:\n",
        "        first_death_cross = True"
      ],
      "metadata": {
        "colab": {
          "base_uri": "https://localhost:8080/"
        },
        "id": "nbvpeMrSwoZR",
        "outputId": "aa149de9-4cdb-4512-8435-f5c7001b8978"
      },
      "execution_count": null,
      "outputs": [
        {
          "output_type": "stream",
          "name": "stderr",
          "text": [
            "<ipython-input-102-aa407601c4d3>:1: FutureWarning: iteritems is deprecated and will be removed in a future version. Use .items instead.\n",
            "  for idx, each in df[\"death_cross_signal\"].iteritems():\n"
          ]
        }
      ]
    },
    {
      "cell_type": "markdown",
      "source": [
        "Prints the dates of Death Crosses"
      ],
      "metadata": {
        "id": "FNtic-ygxwq4"
      }
    },
    {
      "cell_type": "code",
      "source": [
        "list_death_cross_ts"
      ],
      "metadata": {
        "colab": {
          "base_uri": "https://localhost:8080/"
        },
        "id": "yo6yacgdwx2v",
        "outputId": "a3d6a7c6-f2dd-4d3d-8541-b8762e37dc99"
      },
      "execution_count": null,
      "outputs": [
        {
          "output_type": "execute_result",
          "data": {
            "text/plain": [
              "[Timestamp('2021-05-24 00:00:00'),\n",
              " Timestamp('2021-08-11 00:00:00'),\n",
              " Timestamp('2021-10-01 00:00:00'),\n",
              " Timestamp('2021-12-20 00:00:00'),\n",
              " Timestamp('2022-04-26 00:00:00'),\n",
              " Timestamp('2022-09-16 00:00:00')]"
            ]
          },
          "metadata": {},
          "execution_count": 103
        }
      ]
    }
  ]
}